{
 "cells": [
  {
   "cell_type": "markdown",
   "metadata": {
    "id": "nx5YYnIJ3w3q"
   },
   "source": [
    "**Aim:**\n",
    "\n",
    "In this kernel, we aim to use the final model to predict the test dataset.\n",
    "\n",
    "The models include : XGB, BBRF, and EEC\n",
    "\n",
    "The algorithm to build connectivity matrix: Mutual information\n",
    "\n",
    "Scaling method: Standardization\n",
    "\n",
    "Metrics: AUC, sensitivity, specifity, f1 score, accuracy\n",
    "\n"
   ]
  },
  {
   "cell_type": "markdown",
   "metadata": {
    "id": "3JdPG-do3w3t"
   },
   "source": [
    "### Import packages"
   ]
  },
  {
   "cell_type": "code",
   "execution_count": 1,
   "metadata": {
    "executionInfo": {
     "elapsed": 2395,
     "status": "ok",
     "timestamp": 1684339753651,
     "user": {
      "displayName": "Radial Mimic",
      "userId": "13785279993639843263"
     },
     "user_tz": -210
    },
    "id": "TkRa2T_N3w3u"
   },
   "outputs": [
    {
     "name": "stderr",
     "output_type": "stream",
     "text": [
      "<frozen importlib._bootstrap>:228: RuntimeWarning: scipy._lib.messagestream.MessageStream size changed, may indicate binary incompatibility. Expected 56 from C header, got 64 from PyObject\n"
     ]
    }
   ],
   "source": [
    "import tqdm\n",
    "import pickle\n",
    "import sklearn\n",
    "import numpy as np\n",
    "import pandas as pd\n",
    "\n",
    "from sklearn.metrics import precision_recall_curve\n",
    "import matplotlib.pyplot as plt\n",
    "from imblearn import pipeline\n",
    "from xgboost import XGBClassifier\n",
    "from sklearn.preprocessing import StandardScaler\n",
    "from imblearn.ensemble import BalancedRandomForestClassifier, EasyEnsembleClassifier\n",
    "from sklearn.metrics import (\n",
    "    roc_auc_score,\n",
    "    f1_score,\n",
    "    accuracy_score,\n",
    "    confusion_matrix\n",
    ")\n",
    "\n",
    "from FeatureSelection import FeatureSelector\n",
    "from Metrics import MetricsCal"
   ]
  },
  {
   "cell_type": "markdown",
   "metadata": {
    "id": "OO4Z3pDv4YWx"
   },
   "source": [
    "### Loading the Data"
   ]
  },
  {
   "cell_type": "code",
   "execution_count": 2,
   "metadata": {
    "executionInfo": {
     "elapsed": 1425,
     "status": "ok",
     "timestamp": 1684350632071,
     "user": {
      "displayName": "Radial Mimic",
      "userId": "13785279993639843263"
     },
     "user_tz": -210
    },
    "id": "8zNeRJQf3w3x"
   },
   "outputs": [],
   "source": [
    "FeatureDir = \"../Data/ExtractedFeatures/features_Thr0.9.csv\"\n",
    "with open(\"../Data/Test_IDs/TestID.pickle\", \"rb\") as file:\n",
    "    Test_IDs = pickle.load(file)\n",
    "\n",
    "# Reading the Feature matrix\n",
    "df = pd.read_csv(FeatureDir)\n",
    "\n",
    "\n",
    "df_train = df[~df[\"ScanDir ID\"].isin(Test_IDs)]\n",
    "df_test = df[df[\"ScanDir ID\"].isin(Test_IDs)]\n",
    "\n",
    "# preparing the feature set and labels\n",
    "X_train, y_train = df_train.iloc[:, 1:-5], np.array(df_train.loc[:, \"DX\"])\n",
    "X_test, y_test = df_test.iloc[:, 1:-5], np.array(df_test.loc[:, \"DX\"])"
   ]
  },
  {
   "cell_type": "markdown",
   "metadata": {
    "id": "PLZqBFAq3w3x"
   },
   "source": [
    "### Feature selection"
   ]
  },
  {
   "cell_type": "code",
   "execution_count": 3,
   "metadata": {
    "executionInfo": {
     "elapsed": 115594,
     "status": "ok",
     "timestamp": 1684350747661,
     "user": {
      "displayName": "Radial Mimic",
      "userId": "13785279993639843263"
     },
     "user_tz": -210
    },
    "id": "XI0cql7y3w3y"
   },
   "outputs": [
    {
     "name": "stdout",
     "output_type": "stream",
     "text": [
      "40\n"
     ]
    }
   ],
   "source": [
    "random_state, n_split = 0, 7\n",
    "ImpFeatures = FeatureSelector(X_train, y_train, random_state, n_split, 1000, 45, 2)\n",
    "X_train = X_train.loc[:, ImpFeatures]\n",
    "X_test = X_test.loc[:, ImpFeatures]\n",
    "\n",
    "print(len(ImpFeatures))"
   ]
  },
  {
   "cell_type": "markdown",
   "metadata": {
    "id": "bh9rrgFs3w3z"
   },
   "source": [
    "### Modeling pipeline"
   ]
  },
  {
   "cell_type": "code",
   "execution_count": 4,
   "metadata": {
    "colab": {
     "base_uri": "https://localhost:8080/"
    },
    "executionInfo": {
     "elapsed": 100080,
     "status": "ok",
     "timestamp": 1684348486744,
     "user": {
      "displayName": "Radial Mimic",
      "userId": "13785279993639843263"
     },
     "user_tz": -210
    },
    "id": "hj3fvnsL3w3z",
    "outputId": "201353d4-c534-4547-ea06-5f72c8e4a0a5"
   },
   "outputs": [
    {
     "name": "stderr",
     "output_type": "stream",
     "text": [
      "100%|██████████| 50/50 [30:53<00:00, 37.08s/it]\n"
     ]
    }
   ],
   "source": [
    "AUC_BRF, Sensitivity_BRF, spcifity_BRF, AucPred_BRF, f1_BRF, ACC_BRF = [], [], [], [], [], []\n",
    "AUC_EEC, Sensitivity_EEC, spcifity_EEC, AucPred_EEC, f1_EEC, ACC_EEC = [], [], [], [], [], []\n",
    "AUCs, Specificities , Sensitivities, f1s, ACCs = [], [], [], [], []\n",
    "\n",
    "for i in tqdm.tqdm(range(50)):\n",
    "\n",
    "\n",
    "\n",
    "    # Normalizing the train and the test data\n",
    "    scaler = StandardScaler()\n",
    "\n",
    "    # Model  <><><><><><><><><><><><><><><><><><><><><><><><><><><><><><>\n",
    "    XGB = XGBClassifier(\n",
    "                  max_depth= 7,\n",
    "                  min_child_weight= 5,\n",
    "                  subsample= 0.5,\n",
    "                  learning_rate= 0.8,\n",
    "                  n_estimators= 150,\n",
    "                  scale_pos_weight= 150\n",
    "                                    )\n",
    "\n",
    "\n",
    "    BRF = BalancedRandomForestClassifier(\n",
    "                                    criterion='entropy', \n",
    "                                    max_depth = 10, \n",
    "                                    max_features =  'log2', \n",
    "                                    min_samples_split = 2, \n",
    "                                    n_estimators = 250\n",
    "                                    )\n",
    "    EEC = EasyEnsembleClassifier(\n",
    "        n_estimators =  500\n",
    "        )\n",
    "\n",
    "\n",
    "    pipe_EEC = pipeline.Pipeline(steps= [(\"Scaler\", scaler),\n",
    "                                            (\"Model\", EEC)])\n",
    "    pipe_EEC.fit(X_train, y_train)\n",
    "    Res_EEC = MetricsCal(pipe_EEC, X_test, y_test, \"EEC\")\n",
    "    AUC_EEC.append(Res_EEC[\"AUC\"])\n",
    "    Sensitivity_EEC.append(Res_EEC[\"Sensitivity\"])\n",
    "    spcifity_EEC.append(Res_EEC[\"Specificity\"])\n",
    "    AucPred_EEC.append(Res_EEC[\"AUC_prob\"])\n",
    "    f1_EEC.append(Res_EEC[\"f1\"])\n",
    "    ACC_EEC.append(Res_EEC[\"ACC\"])\n",
    "    \n",
    "\n",
    "\n",
    "      # BRF\n",
    "    pipe_BRF = pipeline.Pipeline(steps= [(\"Scaler\", scaler),\n",
    "                                            (\"Model\", BRF)])\n",
    "    pipe_BRF.fit(X_train, y_train)\n",
    "    Res_BRF = MetricsCal(pipe_BRF, X_test, y_test, \"BRF\")\n",
    "    AUC_BRF.append(Res_BRF[\"AUC\"])\n",
    "    Sensitivity_BRF.append(Res_BRF[\"Sensitivity\"])\n",
    "    spcifity_BRF.append(Res_BRF[\"Specificity\"])\n",
    "    AucPred_BRF.append(Res_BRF[\"AUC_prob\"])\n",
    "    f1_BRF.append(Res_BRF[\"f1\"])\n",
    "    ACC_BRF.append(Res_BRF[\"ACC\"])\n",
    "\n",
    "    #pipeline <><><><><><><><><><><><><><><><><><><><><><><><><><><><><><>\n",
    "    # # XGB\n",
    "    pipe_XGB = pipeline.Pipeline(steps= [(\"Scaler\", scaler),\n",
    "                                            (\"Model\", XGB)])\n",
    "    pipe_XGB.fit(X_train, y_train)\n",
    "    \n",
    "    y_score = pipe_XGB.predict_proba(X_test)[:, 1]\n",
    "    y_score2 = pipe_XGB.predict_proba(X_test)[:, 1]\n",
    "\n",
    "    new_threshold = 0.4\n",
    "\n",
    "    # Adjust the classification based on the new threshold\n",
    "    y_pred = (y_score > new_threshold).astype(int)\n",
    "\n",
    "    cm = confusion_matrix(y_test, y_pred) #confu\n",
    "    TP = cm[1,1] # true positive \n",
    "    TN = cm[0,0] # true negatives\n",
    "    FP = cm[0,1] # false positives\n",
    "    FN = cm[1,0] # false negatives\n",
    "    Specificity = TN/(TN+FP)\n",
    "    Sensitivity = TP/(FN+TP)\n",
    "\n",
    "    # Saving each of the metrics\n",
    "    AUC = roc_auc_score(y_test,y_pred)\n",
    "    f1 = f1_score(y_test, y_pred)\n",
    "    ACC = accuracy_score(y_test, y_pred)\n",
    "    Sensitivities.append(Sensitivity)\n",
    "    Specificities.append(Specificity)\n",
    "    AUCs.append(AUC)\n",
    "    f1s.append(f1)\n",
    "    ACCs.append(ACC)\n"
   ]
  },
  {
   "cell_type": "markdown",
   "metadata": {},
   "source": [
    "Balanced random forest"
   ]
  },
  {
   "cell_type": "code",
   "execution_count": 5,
   "metadata": {},
   "outputs": [
    {
     "name": "stdout",
     "output_type": "stream",
     "text": [
      "0.5642545454545455\n",
      "0.37090909090909085\n",
      "0.7575999999999997\n",
      "0.384735336364627\n",
      "0.6394444444444445\n"
     ]
    }
   ],
   "source": [
    "print(np.mean(AUC_BRF))\n",
    "print(np.mean(Sensitivity_BRF))\n",
    "print(np.mean(spcifity_BRF))\n",
    "print(np.mean(f1_BRF))\n",
    "print(np.mean(ACC_BRF))"
   ]
  },
  {
   "cell_type": "markdown",
   "metadata": {},
   "source": [
    "EasyEnsemble"
   ]
  },
  {
   "cell_type": "code",
   "execution_count": 6,
   "metadata": {},
   "outputs": [
    {
     "name": "stdout",
     "output_type": "stream",
     "text": [
      "0.5491272727272727\n",
      "0.3654545454545455\n",
      "0.7327999999999999\n",
      "0.37060041407867494\n",
      "0.6205555555555555\n"
     ]
    }
   ],
   "source": [
    "print(np.mean(AUC_EEC))\n",
    "print(np.mean(Sensitivity_EEC))\n",
    "print(np.mean(spcifity_EEC))\n",
    "print(np.mean(f1_EEC))\n",
    "print(np.mean(ACC_EEC))"
   ]
  },
  {
   "cell_type": "markdown",
   "metadata": {},
   "source": [
    "XGB"
   ]
  },
  {
   "cell_type": "code",
   "execution_count": 7,
   "metadata": {},
   "outputs": [
    {
     "name": "stdout",
     "output_type": "stream",
     "text": [
      "0.7236363636363637\n",
      "0.7199999999999999\n",
      "0.7272727272727273\n",
      "0.6153846153846154\n",
      "0.7222222222222221\n"
     ]
    }
   ],
   "source": [
    "print(np.mean(AUCs))\n",
    "print(np.mean(Specificities))\n",
    "print(np.mean(Sensitivities))\n",
    "print(np.mean(f1s))\n",
    "print(np.mean(ACCs))"
   ]
  },
  {
   "cell_type": "markdown",
   "metadata": {},
   "source": [
    "## Percision recall figure"
   ]
  },
  {
   "cell_type": "code",
   "execution_count": 8,
   "metadata": {},
   "outputs": [],
   "source": [
    "# Normalizing the train and the test data\n",
    "scaler = StandardScaler()\n",
    "\n",
    "# Model  <><><><><><><><><><><><><><><><><><><><><><><><><><><><><><>\n",
    "XGB = XGBClassifier(\n",
    "              max_depth= 7,\n",
    "              min_child_weight= 5,\n",
    "              subsample= 0.5,\n",
    "              learning_rate= 0.8,\n",
    "              n_estimators= 150,\n",
    "              scale_pos_weight= 150\n",
    "                                )\n",
    "\n",
    "pipe_XGB = pipeline.Pipeline(steps= [(\"Scaler\", scaler),\n",
    "                                        (\"Model\", XGB)])\n",
    "pipe_XGB.fit(X_train, y_train)                                        \n",
    "y_score_XGB = pipe_XGB.predict_proba(X_test)[:, 1]\n",
    "new_threshold = 0.4\n",
    "\n",
    "# Adjust the classification based on the new threshold\n",
    "y_proba = (y_score_XGB > new_threshold).astype(int)\n",
    "\n",
    "\n",
    "# <><><><><><><><><><><><><><><><><><><><><><><><><><><><><><>\n",
    "BRF = BalancedRandomForestClassifier(\n",
    "                                criterion='entropy', \n",
    "                                max_depth = 10, \n",
    "                                max_features =  'log2', \n",
    "                                min_samples_split = 2, \n",
    "                                n_estimators = 250\n",
    "                                )\n",
    "\n",
    "pipe_BRF = pipeline.Pipeline(steps= [(\"Scaler\", scaler),\n",
    "                                        (\"Model\", BRF)])\n",
    "pipe_BRF.fit(X_train, y_train)                                        \n",
    "y_score_BRF = pipe_BRF.predict_proba(X_test)[:, 1]\n",
    "\n",
    "# <><><><><><><><><><><><><><><><><><><><><><><><><><><><><><>\n",
    "EEC = EasyEnsembleClassifier(\n",
    "    n_estimators =  500\n",
    "    )\n",
    "pipe_EEC = pipeline.Pipeline(steps= [(\"Scaler\", scaler),\n",
    "                                        (\"Model\", EEC)])\n",
    "pipe_EEC.fit(X_train, y_train)                                        \n",
    "y_score_EEC = pipe_EEC.predict_proba(X_test)[:, 1]"
   ]
  },
  {
   "cell_type": "code",
   "execution_count": 11,
   "metadata": {
    "colab": {
     "base_uri": "https://localhost:8080/",
     "height": 449
    },
    "executionInfo": {
     "elapsed": 15,
     "status": "ok",
     "timestamp": 1684341367891,
     "user": {
      "displayName": "Radial Mimic",
      "userId": "13785279993639843263"
     },
     "user_tz": -210
    },
    "id": "sJx5OEvuLfTU",
    "outputId": "62f83ce2-f7ac-4709-ecac-5b4a0dac1bcc"
   },
   "outputs": [
    {
     "data": {
      "image/png": "[encoded data removed]",
      "text/plain": [
       "<Figure size 354.331x354.331 with 1 Axes>"
      ]
     },
     "metadata": {},
     "output_type": "display_data"
    }
   ],
   "source": [
    "precision_XGB, recall_XGB, thresholds_XGB = precision_recall_curve(y_test, y_score_XGB)\n",
    "precision_BRF, recall_BRF, thresholds_BRF = precision_recall_curve(y_test, y_score_BRF)\n",
    "precision_EEC, recall_EEC, thresholds_EEC = precision_recall_curve(y_test, y_score_EEC)\n",
    "\n",
    "no_skill = np.sum(y_test) / len(y_test)  # Calculate the ratio of positive samples in y_test\n",
    "\n",
    "CM = 1/2.54\n",
    "\n",
    "# Create precision recall curve\n",
    "fig, ax = plt.subplots(figsize=(9*CM,9*CM))\n",
    "ax.plot(recall_XGB, precision_XGB, color='#232324', linestyle='solid', alpha=0.7, linewidth=2.5)\n",
    "ax.plot(recall_BRF, precision_BRF,  color='#232324', linestyle=':', linewidth=2.5, alpha=0.7)\n",
    "ax.plot(recall_EEC, precision_EEC, color='#232324', linestyle='--', linewidth=2.5, alpha=0.7)\n",
    "ax.plot([0, 1], [no_skill, no_skill], linestyle='-', label='No Skill', color=\"#BF003F\")\n",
    "\n",
    "# Add axis labels to the plot\n",
    "ax.set_xlim(0.0, 1.0)\n",
    "ax.set_ylim(0.0, 1.0)\n",
    "ax.set_ylabel('Precision', fontsize=11)\n",
    "ax.set_xlabel('Recall', fontsize=11)\n",
    "ax.legend([\"XGB model\", \"BRF model\", \"EEC model\", \"Random model\"], fontsize=11)\n",
    "ax.spines['top'].set_visible(False)\n",
    "ax.spines['right'].set_visible(False)\n",
    "ax.tick_params(labelsize=10)\n",
    "\n",
    "plt.savefig(\"/home/zaman/Desktop/thesis new documents/AVIN/AVIN_percision_recall2.pdf\", \n",
    "            dpi=450,\n",
    "            bbox_inches=\"tight\")\n",
    "plt.show()"
   ]
  }
 ],
 "metadata": {
  "colab": {
   "provenance": []
  },
  "interpreter": {
   "hash": "bbeef1641d091e35d93df74aa93d1a5e7a7fb87503981bf92f3d78628af6c7b5"
  },
  "kernelspec": {
   "display_name": "Python 3 (ipykernel)",
   "language": "python",
   "name": "python3"
  },
  "language_info": {
   "codemirror_mode": {
    "name": "ipython",
    "version": 3
   },
   "file_extension": ".py",
   "mimetype": "text/x-python",
   "name": "python",
   "nbconvert_exporter": "python",
   "pygments_lexer": "ipython3",
   "version": "3.9.12"
  }
 },
 "nbformat": 4,
 "nbformat_minor": 4
}
